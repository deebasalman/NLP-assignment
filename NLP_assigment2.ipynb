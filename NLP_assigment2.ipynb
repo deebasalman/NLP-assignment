{
  "nbformat": 4,
  "nbformat_minor": 0,
  "metadata": {
    "colab": {
      "provenance": []
    },
    "kernelspec": {
      "name": "python3",
      "display_name": "Python 3"
    },
    "language_info": {
      "name": "python"
    }
  },
  "cells": [
    {
      "cell_type": "markdown",
      "source": [
        "1. What are Corpora?"
      ],
      "metadata": {
        "id": "vsqhq2HLbMyM"
      }
    },
    {
      "cell_type": "markdown",
      "source": [
        "A corpus is a collection of authentic text or audio organized into datasets. Authentic here means text written or audio spoken by a native of the language or dialect"
      ],
      "metadata": {
        "id": "wdhMUZdobPAB"
      }
    },
    {
      "cell_type": "markdown",
      "source": [
        "2. What are Tokens?"
      ],
      "metadata": {
        "id": "Q1Zvdh82bd81"
      }
    },
    {
      "cell_type": "markdown",
      "source": [
        "A token is an instance of a sequence of characters in some particular document that are grouped together as a useful semantic unit for processing."
      ],
      "metadata": {
        "id": "eMErXaNvbsuF"
      }
    },
    {
      "cell_type": "markdown",
      "source": [
        "3. What are Unigrams, Bigrams, Trigrams?"
      ],
      "metadata": {
        "id": "V9VDjD5Ibtk1"
      }
    },
    {
      "cell_type": "markdown",
      "source": [
        "The co-occurring words are called \"n-grams,\" and \"n\" is a number saying how long a string of words we have considered in the construction of n-grams. Unigrams are single words, bigrams are two words, trigrams are three words, 4-grams are four words, 5-grams are five words, etc."
      ],
      "metadata": {
        "id": "ax2G7bw0dfIF"
      }
    },
    {
      "cell_type": "markdown",
      "source": [
        "4. How to generate n-grams from text?"
      ],
      "metadata": {
        "id": "7lOrTTrQdjTC"
      }
    },
    {
      "cell_type": "markdown",
      "source": [
        "In the fields of Natural Language Processing an n-gram is a sequence of n items from a given sample of text. These items can be words, letters or pairs according to the application. The N-gram typically are collected from a text.\n",
        "\n",
        "In unigrams each word is single, but bigrams should be pair of two words.\n",
        "\n",
        "A trigram is a three-word sequence of words."
      ],
      "metadata": {
        "id": "-BgTI6a8euSh"
      }
    },
    {
      "cell_type": "markdown",
      "source": [
        "5. Explain Lemmatization?"
      ],
      "metadata": {
        "id": "g4uxub_jft2W"
      }
    },
    {
      "cell_type": "markdown",
      "source": [
        "Lemmatization is the process of grouping together different inflected forms of the same word. It's used in computational linguistics, natural language processing (NLP) and chatbots."
      ],
      "metadata": {
        "id": "sHaqU8sywJOF"
      }
    },
    {
      "cell_type": "markdown",
      "source": [
        "6. Explain Stemming"
      ],
      "metadata": {
        "id": "zVTbycz0yqsl"
      }
    },
    {
      "cell_type": "markdown",
      "source": [
        "Stemming is the process of reducing a word to its stem that affixes to suffixes and prefixes or to the roots of words known as \"lemmas\". Stemming is important in natural language understanding (NLU) and natural language processing (NLP)."
      ],
      "metadata": {
        "id": "q6_f-CBXyxTi"
      }
    },
    {
      "cell_type": "markdown",
      "source": [
        "7. Explain Part-of-speech (POS) tagging"
      ],
      "metadata": {
        "id": "me2z1XKgz-T7"
      }
    },
    {
      "cell_type": "markdown",
      "source": [
        "In corpus linguistics, part-of-speech tagging (POS tagging or PoS tagging or POST), also called grammatical tagging is the process of marking up a word in a text (corpus) as corresponding to a particular part of speech, based on both its definition and its context."
      ],
      "metadata": {
        "id": "C-lhSY550EHK"
      }
    },
    {
      "cell_type": "markdown",
      "source": [
        "8. Explain Chunking or shallow parsing"
      ],
      "metadata": {
        "id": "ehX7ocYC2HLH"
      }
    },
    {
      "cell_type": "markdown",
      "source": [
        "Shallow parsing (also chunking or light parsing) is an analysis of a sentence which first identifies constituent parts of sentences (nouns, verbs, adjectives, etc.) and then links them to higher order units that have discrete grammatical meanings (noun groups or phrases, verb groups, etc.)"
      ],
      "metadata": {
        "id": "NSYy6z-H2I0l"
      }
    },
    {
      "cell_type": "markdown",
      "source": [
        "9. Explain Noun Phrase (NP) chunking"
      ],
      "metadata": {
        "id": "wbWGy44C2Ztm"
      }
    },
    {
      "cell_type": "markdown",
      "source": [
        "Chunking builds upon these grammatical parts to identify groups of words that go together to form symbolic meaning. This can be an adjective that goes along with a noun or a group of nouns related to each other"
      ],
      "metadata": {
        "id": "GnH7qQwM3sXR"
      }
    },
    {
      "cell_type": "markdown",
      "source": [
        "10. Explain Named Entity Recognition"
      ],
      "metadata": {
        "id": "XboYR2-T3vCq"
      }
    },
    {
      "cell_type": "markdown",
      "source": [
        "Named entity recognition (NER) is a natural language processing (NLP) method that extracts information from text. NER involves detecting and categorizing important information in text known as named entities."
      ],
      "metadata": {
        "id": "T1z92bLa39sI"
      }
    },
    {
      "cell_type": "markdown",
      "source": [],
      "metadata": {
        "id": "7LjO0utb30fZ"
      }
    },
    {
      "cell_type": "code",
      "execution_count": null,
      "metadata": {
        "id": "l-clX0nDbLQd"
      },
      "outputs": [],
      "source": []
    }
  ]
}